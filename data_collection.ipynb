{
 "cells": [
  {
   "cell_type": "markdown",
   "metadata": {},
   "source": [
    "# Loading all of the data."
   ]
  },
  {
   "cell_type": "code",
   "execution_count": 1,
   "metadata": {},
   "outputs": [],
   "source": [
    "import pandas as pd\n",
    "from sklearn import linear_model, model_selection, metrics\n",
    "\n",
    "regions = ['eune', 'euw', 'na', 'kr', 'jp', 'tr', 'oce', 'br', 'lan', 'ru', 'las']"
   ]
  },
  {
   "cell_type": "markdown",
   "metadata": {},
   "source": [
    "### Combining all the data from the different regions."
   ]
  },
  {
   "cell_type": "code",
   "execution_count": 2,
   "metadata": {},
   "outputs": [
    {
     "data": {
      "text/plain": [
       "(18308, 103)"
      ]
     },
     "execution_count": 2,
     "metadata": {},
     "output_type": "execute_result"
    }
   ],
   "source": [
    "df = pd.DataFrame()\n",
    "\n",
    "for region in regions:\n",
    "    # Couldn't add the specific region csv files, since it's still collecting data on my pc.\n",
    "    temp_df = pd.read_csv(f'data_{region}.csv')\n",
    "    temp_df['region'] = region\n",
    "    df = df.append(temp_df)\n",
    "\n",
    "df.shape"
   ]
  },
  {
   "cell_type": "code",
   "execution_count": 3,
   "metadata": {
    "scrolled": true
   },
   "outputs": [
    {
     "data": {
      "text/html": [
       "<div>\n",
       "<style scoped>\n",
       "    .dataframe tbody tr th:only-of-type {\n",
       "        vertical-align: middle;\n",
       "    }\n",
       "\n",
       "    .dataframe tbody tr th {\n",
       "        vertical-align: top;\n",
       "    }\n",
       "\n",
       "    .dataframe thead th {\n",
       "        text-align: right;\n",
       "    }\n",
       "</style>\n",
       "<table border=\"1\" class=\"dataframe\">\n",
       "  <thead>\n",
       "    <tr style=\"text-align: right;\">\n",
       "      <th></th>\n",
       "      <th>match_id</th>\n",
       "      <th>1_kda</th>\n",
       "      <th>1_winrate</th>\n",
       "      <th>1_cm_points</th>\n",
       "      <th>1_cm_level</th>\n",
       "      <th>1_runes</th>\n",
       "      <th>1_role</th>\n",
       "      <th>1_champion</th>\n",
       "      <th>1_champion_winrate</th>\n",
       "      <th>1_champion_pickrate</th>\n",
       "      <th>...</th>\n",
       "      <th>10_cm_points</th>\n",
       "      <th>10_cm_level</th>\n",
       "      <th>10_runes</th>\n",
       "      <th>10_role</th>\n",
       "      <th>10_champion</th>\n",
       "      <th>10_champion_winrate</th>\n",
       "      <th>10_champion_pickrate</th>\n",
       "      <th>10_champion_banrate</th>\n",
       "      <th>won</th>\n",
       "      <th>region</th>\n",
       "    </tr>\n",
       "  </thead>\n",
       "  <tbody>\n",
       "    <tr>\n",
       "      <th>0</th>\n",
       "      <td>2247671800</td>\n",
       "      <td>1.31</td>\n",
       "      <td>0.2</td>\n",
       "      <td>1080452</td>\n",
       "      <td>7</td>\n",
       "      <td>Arcane Comet</td>\n",
       "      <td>Role.solo</td>\n",
       "      <td>Lux</td>\n",
       "      <td>50.44</td>\n",
       "      <td>8.86</td>\n",
       "      <td>...</td>\n",
       "      <td>248084</td>\n",
       "      <td>7</td>\n",
       "      <td>Conqueror</td>\n",
       "      <td>Role.none</td>\n",
       "      <td>Lee Sin</td>\n",
       "      <td>47.46</td>\n",
       "      <td>11.51</td>\n",
       "      <td>1.34</td>\n",
       "      <td>1</td>\n",
       "      <td>eune</td>\n",
       "    </tr>\n",
       "    <tr>\n",
       "      <th>1</th>\n",
       "      <td>2247903911</td>\n",
       "      <td>3.55</td>\n",
       "      <td>1.0</td>\n",
       "      <td>266017</td>\n",
       "      <td>7</td>\n",
       "      <td>Press the Attack</td>\n",
       "      <td>Role.duo_carry</td>\n",
       "      <td>Draven</td>\n",
       "      <td>49.56</td>\n",
       "      <td>4.20</td>\n",
       "      <td>...</td>\n",
       "      <td>202116</td>\n",
       "      <td>7</td>\n",
       "      <td>Arcane Comet</td>\n",
       "      <td>Role.solo</td>\n",
       "      <td>Camille</td>\n",
       "      <td>47.97</td>\n",
       "      <td>3.40</td>\n",
       "      <td>0.19</td>\n",
       "      <td>1</td>\n",
       "      <td>eune</td>\n",
       "    </tr>\n",
       "    <tr>\n",
       "      <th>2</th>\n",
       "      <td>2247874642</td>\n",
       "      <td>3.83</td>\n",
       "      <td>0.5</td>\n",
       "      <td>361640</td>\n",
       "      <td>7</td>\n",
       "      <td>Arcane Comet</td>\n",
       "      <td>Role.solo</td>\n",
       "      <td>Xerath</td>\n",
       "      <td>50.85</td>\n",
       "      <td>3.28</td>\n",
       "      <td>...</td>\n",
       "      <td>111927</td>\n",
       "      <td>5</td>\n",
       "      <td>Conqueror</td>\n",
       "      <td>Role.solo</td>\n",
       "      <td>Aatrox</td>\n",
       "      <td>47.46</td>\n",
       "      <td>4.76</td>\n",
       "      <td>3.09</td>\n",
       "      <td>0</td>\n",
       "      <td>eune</td>\n",
       "    </tr>\n",
       "    <tr>\n",
       "      <th>3</th>\n",
       "      <td>2247565707</td>\n",
       "      <td>0.00</td>\n",
       "      <td>0.0</td>\n",
       "      <td>125787</td>\n",
       "      <td>7</td>\n",
       "      <td>Press the Attack</td>\n",
       "      <td>Role.duo_carry</td>\n",
       "      <td>Lucian</td>\n",
       "      <td>48.18</td>\n",
       "      <td>7.49</td>\n",
       "      <td>...</td>\n",
       "      <td>58676</td>\n",
       "      <td>7</td>\n",
       "      <td>Hail of Blades</td>\n",
       "      <td>Role.none</td>\n",
       "      <td>Rek'Sai</td>\n",
       "      <td>50.92</td>\n",
       "      <td>1.75</td>\n",
       "      <td>0.19</td>\n",
       "      <td>0</td>\n",
       "      <td>eune</td>\n",
       "    </tr>\n",
       "    <tr>\n",
       "      <th>4</th>\n",
       "      <td>2247891175</td>\n",
       "      <td>2.50</td>\n",
       "      <td>1.0</td>\n",
       "      <td>202116</td>\n",
       "      <td>7</td>\n",
       "      <td>Arcane Comet</td>\n",
       "      <td>Role.duo</td>\n",
       "      <td>Camille</td>\n",
       "      <td>47.97</td>\n",
       "      <td>3.40</td>\n",
       "      <td>...</td>\n",
       "      <td>751937</td>\n",
       "      <td>7</td>\n",
       "      <td>Electrocute</td>\n",
       "      <td>Role.duo</td>\n",
       "      <td>Lux</td>\n",
       "      <td>50.44</td>\n",
       "      <td>8.86</td>\n",
       "      <td>0.49</td>\n",
       "      <td>1</td>\n",
       "      <td>eune</td>\n",
       "    </tr>\n",
       "  </tbody>\n",
       "</table>\n",
       "<p>5 rows × 103 columns</p>\n",
       "</div>"
      ],
      "text/plain": [
       "     match_id  1_kda  1_winrate  1_cm_points  1_cm_level           1_runes  \\\n",
       "0  2247671800   1.31        0.2      1080452           7      Arcane Comet   \n",
       "1  2247903911   3.55        1.0       266017           7  Press the Attack   \n",
       "2  2247874642   3.83        0.5       361640           7      Arcane Comet   \n",
       "3  2247565707   0.00        0.0       125787           7  Press the Attack   \n",
       "4  2247891175   2.50        1.0       202116           7      Arcane Comet   \n",
       "\n",
       "           1_role 1_champion  1_champion_winrate  1_champion_pickrate  ...  \\\n",
       "0       Role.solo        Lux               50.44                 8.86  ...   \n",
       "1  Role.duo_carry     Draven               49.56                 4.20  ...   \n",
       "2       Role.solo     Xerath               50.85                 3.28  ...   \n",
       "3  Role.duo_carry     Lucian               48.18                 7.49  ...   \n",
       "4        Role.duo    Camille               47.97                 3.40  ...   \n",
       "\n",
       "   10_cm_points  10_cm_level        10_runes    10_role  10_champion  \\\n",
       "0        248084            7       Conqueror  Role.none      Lee Sin   \n",
       "1        202116            7    Arcane Comet  Role.solo      Camille   \n",
       "2        111927            5       Conqueror  Role.solo       Aatrox   \n",
       "3         58676            7  Hail of Blades  Role.none      Rek'Sai   \n",
       "4        751937            7     Electrocute   Role.duo          Lux   \n",
       "\n",
       "  10_champion_winrate 10_champion_pickrate 10_champion_banrate  won  region  \n",
       "0               47.46                11.51                1.34    1    eune  \n",
       "1               47.97                 3.40                0.19    1    eune  \n",
       "2               47.46                 4.76                3.09    0    eune  \n",
       "3               50.92                 1.75                0.19    0    eune  \n",
       "4               50.44                 8.86                0.49    1    eune  \n",
       "\n",
       "[5 rows x 103 columns]"
      ]
     },
     "execution_count": 3,
     "metadata": {},
     "output_type": "execute_result"
    }
   ],
   "source": [
    "df.head()"
   ]
  },
  {
   "cell_type": "code",
   "execution_count": 4,
   "metadata": {},
   "outputs": [],
   "source": [
    "# Save all of the data into one csv file for easier managing later on.\n",
    "# Plus 'data.csv' is too large to upload to github enterprise, so uploading all files seperately is better.\n",
    "\n",
    "df.to_csv('data.csv', index=None, header=True)"
   ]
  },
  {
   "cell_type": "markdown",
   "metadata": {},
   "source": [
    "I have a few other features that I think would work, but I don't know how to apply correctly.\n",
    "I think adding previous games of the player on a certain champion, or the current role would help with the prediction, with older matches having less weight than recent ones.\n",
    "\n",
    "I can do this easily since I can query the api using timestamps that can be easily gotten from the match id."
   ]
  },
  {
   "cell_type": "code",
   "execution_count": 3,
   "metadata": {},
   "outputs": [],
   "source": [
    "features = list()\n",
    "main_features = ['kda', 'winrate', 'cm_points', 'cm_level', 'champion_winrate', 'champion_pickrate', 'champion_banrate']\n",
    "\n",
    "for i in range(1, 11):\n",
    "    for feature in main_features:\n",
    "        features.append(f'{i}_{feature}')"
   ]
  },
  {
   "cell_type": "code",
   "execution_count": null,
   "metadata": {},
   "outputs": [
    {
     "name": "stderr",
     "output_type": "stream",
     "text": [
      "D:\\Anaconda3\\lib\\site-packages\\sklearn\\linear_model\\logistic.py:433: FutureWarning: Default solver will be changed to 'lbfgs' in 0.22. Specify a solver to silence this warning.\n",
      "  FutureWarning)\n"
     ]
    }
   ],
   "source": [
    "X = df[features]\n",
    "y = df['won']\n",
    "\n",
    "X_train, X_test, y_train, y_test = model_selection.train_test_split(X, y, random_state=46)\n",
    "logit_simple = linear_model.LogisticRegression(C=1e9).fit(X_train, y_train)"
   ]
  },
  {
   "cell_type": "code",
   "execution_count": null,
   "metadata": {},
   "outputs": [],
   "source": []
  }
 ],
 "metadata": {
  "kernelspec": {
   "display_name": "Python 3",
   "language": "python",
   "name": "python3"
  },
  "language_info": {
   "codemirror_mode": {
    "name": "ipython",
    "version": 3
   },
   "file_extension": ".py",
   "mimetype": "text/x-python",
   "name": "python",
   "nbconvert_exporter": "python",
   "pygments_lexer": "ipython3",
   "version": "3.7.3"
  }
 },
 "nbformat": 4,
 "nbformat_minor": 2
}
